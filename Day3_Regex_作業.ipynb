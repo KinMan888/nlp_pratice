{
 "cells": [
  {
   "cell_type": "markdown",
   "metadata": {},
   "source": [
    "# 作業目標: 利用正規表達式達到預期配對\n",
    "本次作業將以互動式網站[Regex101](https://regex101.com/)來做練習，請將所需配對文本複製貼上到Regex101的**TEST STRING**區塊來做練習"
   ]
  },
  {
   "cell_type": "markdown",
   "metadata": {},
   "source": [
    "### HW1: 電話號碼配對\n",
    "\n",
    "抓出在電話號碼的所在地區以及號碼\n",
    "\n",
    "```\n",
    "ex: 02-33334444 --> 配對02, 33334444\n",
    "```\n",
    "\n",
    "\n",
    "**所需配對文本:**\n",
    "```\n",
    "02-27208889\n",
    "04-2220-3585\n",
    "(06)-2991111\n",
    "(07)799-5678\n",
    "```\n",
    "\n",
    "**應配對出的結果為**\n",
    "```\n",
    "02, 27208889\n",
    "04, 22203585\n",
    "06, 2991111\n",
    "07, 7995678\n",
    "```"
   ]
  },
  {
   "cell_type": "code",
   "execution_count": 1,
   "metadata": {},
   "outputs": [],
   "source": [
    "import re\n",
    "text = '02-27208889\\n04-2220-3585\\n(06)-2991111\\n(07)799-5678\\n'\n",
    "pattern = r'\\(?\\d+\\)?-?\\d{1,4}-?\\d{1,4}'\n",
    "res  = re.findall(pattern, text)\n",
    "for e in res:\n",
    "    print(e)"
   ]
  },
  {
   "cell_type": "markdown",
   "metadata": {},
   "source": [
    "### HW2: 身分證字號配對\n",
    "請配對出找出桃園(H), 台南(D), 嘉義(Q)中為男生的身分證字號(數字為1開頭)\n",
    "\n",
    "**所需配對文本:**\n",
    "```\n",
    "A121040176\n",
    "L186856359\n",
    "Z127598010\n",
    "I114537095\n",
    "D279884447\n",
    "L186834359\n",
    "D243736345\n",
    "I114537095\n",
    "Q146110887\n",
    "D187217314\n",
    "I114537095\n",
    "Q243556025\n",
    "Z127598010\n",
    "H250077453\n",
    "Q188367037\n",
    "```\n",
    "\n",
    "**應配對出的結果為**\n",
    "```\n",
    "Q146110887\n",
    "D187217314\n",
    "Q188367037\n",
    "```"
   ]
  },
  {
   "cell_type": "code",
   "execution_count": 2,
   "metadata": {},
   "outputs": [
    {
     "name": "stdout",
     "output_type": "stream",
     "text": [
      "Q146110887\n",
      "D187217314\n",
      "Q188367037\n"
     ]
    }
   ],
   "source": [
    "import re\n",
    "text = 'A121040176\\nL186856359\\nZ127598010\\nI114537095\\nD279884447\\nL186834359\\nD243736345\\nI114537095\\nQ146110887\\nD187217314\\nI114537095\\nQ243556025\\nZ127598010\\nH250077453\\nQ188367037'\n",
    "pattern = r'([H|D|Q]1\\d+)'\n",
    "res  = re.findall(pattern, text)\n",
    "for e in res:\n",
    "    print(e)"
   ]
  },
  {
   "cell_type": "markdown",
   "metadata": {},
   "source": [
    "### HW3: 電子郵件配對\n",
    "請抓出非gmail的電子郵件\n",
    "\n",
    "**所需配對文本:**\n",
    "```\n",
    "foobar@gmail.com\n",
    "NoOneCareMe@gmail.com\n",
    "SaveTheWorld@hotmail.com\n",
    "zzzGroup@yahoo.com\n",
    "eagle1963@gmail.com\n",
    "maythefourthwithyiu@starwars.com\n",
    "```\n",
    "\n",
    "**應配對出的結果為**\n",
    "```\n",
    "SaveTheWorld@hotmail.com\n",
    "zzzGroup@yahoo.com\n",
    "maythefourthwithyiu@starwars.com\n",
    "```\n"
   ]
  },
  {
   "cell_type": "code",
   "execution_count": 3,
   "metadata": {},
   "outputs": [
    {
     "name": "stdout",
     "output_type": "stream",
     "text": [
      "SaveTheWorld@hotmail.com\n",
      "zzzGroup@yahoo.com\n",
      "maythefourthwithyiu@starwars.com\n"
     ]
    }
   ],
   "source": [
    "import re\n",
    "text = 'foobar@gmail.com\\nNoOneCareMe@gmail.com\\nSaveTheWorld@hotmail.com\\nzzzGroup@yahoo.com\\neagle1963@gmail.com\\nmaythefourthwithyiu@starwars.com'\n",
    "pattern = r'\\w+@(?!gmail.com)\\w+.com'\n",
    "res  = re.findall(pattern, text)\n",
    "for e in res:\n",
    "    print(e)"
   ]
  },
  {
   "cell_type": "markdown",
   "metadata": {},
   "source": [
    "### HW4: HTML格式配對\n",
    "\n",
    "請抓出<TAG>當中的Tag就好，裡面的屬性請排除。\n",
    "\n",
    "```\n",
    "ex: <p class='test'> --> 抓出 p\n",
    "```\n",
    "\n",
    "**所需配對文本:**\n",
    "```\n",
    "<h1>This is a header 1</h1>\n",
    "<a>This is a hyperlink</a>\n",
    "<div class='test'>This is a text block</div>\n",
    "<a href=\"https://regexisfun.com.tw/\">Learning Regular Expression</a>\n",
    "```\n",
    "\n",
    "**應配對出的結果為**\n",
    "```\n",
    "h1\n",
    "a\n",
    "div\n",
    "a\n",
    "```"
   ]
  },
  {
   "cell_type": "code",
   "execution_count": 4,
   "metadata": {},
   "outputs": [
    {
     "name": "stdout",
     "output_type": "stream",
     "text": [
      "h1\n",
      "a\n",
      "div\n",
      "a\n"
     ]
    }
   ],
   "source": [
    "import re\n",
    "text = '<h1>This is a header 1</h1>\\n<a>This is a hyperlink</a>\\n<div class=\\'test\\'>This is a text block</div>\\n<a href=\"https://regexisfun.com.tw/\">Learning Regular Expression</a>\\n'\n",
    "pattern = r'(?<=<)\\w+'\n",
    "res  = re.findall(pattern, text)\n",
    "for e in res:\n",
    "    print(e)"
   ]
  },
  {
   "cell_type": "markdown",
   "metadata": {},
   "source": [
    "### HW5: 特定檔案名稱與格式配對\n",
    "\n",
    "在所有檔案中，抓出屬於 gif 或 jpg 的檔名。\n",
    "\n",
    "\n",
    "**所需配對文本:**\n",
    "```\n",
    ".bash_profile\n",
    "workShop.ai\n",
    "file_folderName_num.jpg\n",
    "favicon.png\n",
    "IMG_002.png\n",
    "IMG_003.gif\n",
    "qoo.jpg.tmp\n",
    "index.html\n",
    "foobar.bmp\n",
    "foobar.jpg\n",
    "account.html\n",
    "access.lock\n",
    "```\n",
    "\n",
    "**應配對出的結果為**\n",
    "```\n",
    "IMG_003.gif\n",
    "file_folderName_num.jpg\n",
    "foobar.jpg\n",
    "```"
   ]
  },
  {
   "cell_type": "code",
   "execution_count": 5,
   "metadata": {},
   "outputs": [
    {
     "name": "stdout",
     "output_type": "stream",
     "text": [
      "file_folderName_num.jpg\n",
      "\n",
      "IMG_003.gif\n",
      "\n",
      "foobar.jpg\n",
      "\n"
     ]
    }
   ],
   "source": [
    "import re\n",
    "text = '.bash_profile\\nworkShop.ai\\nfile_folderName_num.jpg\\nfavicon.png\\nIMG_002.png\\nIMG_003.gif\\nqoo.jpg.tmp\\nindex.html\\nfoobar.bmp\\nfoobar.jpg\\naccount.html\\naccess.lock\\n'\n",
    "pattern = r'(\\w+(.jpg\\n|.gif\\n))'\n",
    "res  = re.findall(pattern, text)\n",
    "for i,j in res:\n",
    "    print(i)"
   ]
  },
  {
   "cell_type": "markdown",
   "metadata": {},
   "source": [
    "### HW6: URL配對\n",
    "\n",
    "請抓出 Url 中的協定方式, 網址, 與埠\n",
    "\n",
    "```\n",
    "ex: Https://localhost:4200/ --> 抓取 Https, localhost, 4200\n",
    "```\n",
    "\n",
    "**所需配對文本:**\n",
    "```\n",
    "ftp://file_server.com:21/account/customers.xml\n",
    "https://hengxiuxu.blogspot.tw/\n",
    "file://localhost:4200\n",
    "https://s3cur3-server.com:9999/\n",
    "```\n",
    "\n",
    "**應配對出的結果為**\n",
    "```\n",
    "ftp, file_server, 21\n",
    "https, hengxiuxu.blogspot.tw\n",
    "file, localhost, 4200\n",
    "https, s3cur3-server.com, 9999\n",
    "```"
   ]
  },
  {
   "cell_type": "code",
   "execution_count": 6,
   "metadata": {},
   "outputs": [
    {
     "name": "stdout",
     "output_type": "stream",
     "text": [
      "ftp, file_server.com, 21\n",
      "https, hengxiuxu.blogspot.tw, None\n",
      "file, localhost, 4200\n",
      "https, s3cur3-server.com, 9999\n"
     ]
    }
   ],
   "source": [
    "import re\n",
    "\n",
    "regex = r\"(\\w+(?=:\\/\\/))\\W*((?<=:\\/\\/)\\w+.{1,}(?=(:|\\/\\n)))\\W*(\\d+(?=(:|\\n|\\/)))?\"\n",
    "\n",
    "test_str = (\"ftp://file_server.com:21/account/customers.xml\\n\"\n",
    "\"https://hengxiuxu.blogspot.tw/\\n\"\n",
    "\"file://localhost:4200\\n\"\n",
    "\"https://s3cur3-server.com:9999/\")\n",
    "\n",
    "matches = re.finditer(regex, test_str, re.MULTILINE)\n",
    "\n",
    "for matchNum, match in enumerate(matches, start=1):\n",
    "    \n",
    "    print (\"{group}, {link}, {port}\".format(group = match.group(1), link = match.group(2), port = match.group(4)))\n"
   ]
  },
  {
   "cell_type": "code",
   "execution_count": null,
   "metadata": {},
   "outputs": [],
   "source": []
  }
 ],
 "metadata": {
  "kernelspec": {
   "display_name": "Python 3",
   "language": "python",
   "name": "python3"
  },
  "language_info": {
   "codemirror_mode": {
    "name": "ipython",
    "version": 3
   },
   "file_extension": ".py",
   "mimetype": "text/x-python",
   "name": "python",
   "nbconvert_exporter": "python",
   "pygments_lexer": "ipython3",
   "version": "3.8.3"
  }
 },
 "nbformat": 4,
 "nbformat_minor": 2
}
