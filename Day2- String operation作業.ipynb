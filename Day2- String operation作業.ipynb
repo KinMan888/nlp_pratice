{
 "cells": [
  {
   "cell_type": "markdown",
   "metadata": {},
   "source": [
    "# 作業目標：運用課程所學，操作字串達到預期輸出"
   ]
  },
  {
   "cell_type": "markdown",
   "metadata": {},
   "source": [
    "---"
   ]
  },
  {
   "cell_type": "markdown",
   "metadata": {},
   "source": [
    "### isnumeric(), isdigit(), isdecimal() 各有幾個"
   ]
  },
  {
   "cell_type": "code",
   "execution_count": 1,
   "metadata": {},
   "outputs": [],
   "source": [
    "test_string = ['5.9', '30', '½', '³', '⑬']"
   ]
  },
  {
   "cell_type": "code",
   "execution_count": 2,
   "metadata": {},
   "outputs": [],
   "source": [
    "def spam(s, isnumeric_count, isdigit_count, isdecimal_count):\n",
    "    for ss in s:\n",
    "        for attr in ['isnumeric', 'isdecimal', 'isdigit']:\n",
    "            #  '練習部分'\n",
    "            flag = getattr(ss, attr)()\n",
    "            if attr == 'isnumeric' and flag == True:\n",
    "                isnumeric_count += 1\n",
    "            elif attr == 'isdecimal' and flag == True:\n",
    "                isdecimal_count += 1\n",
    "            elif attr == 'isdigit' and flag == True:\n",
    "                isdigit_count += 1\n",
    "        \n",
    "    return isnumeric_count, isdigit_count, isdecimal_count"
   ]
  },
  {
   "cell_type": "code",
   "execution_count": 3,
   "metadata": {},
   "outputs": [
    {
     "name": "stdout",
     "output_type": "stream",
     "text": [
      "isnumeric_count: 4\n",
      "isdigit_count: 2\n",
      "isdecimal_count: 1\n"
     ]
    }
   ],
   "source": [
    "isnumeric_count = 0 ; isdigit_count = 0; isdecimal_count = 0\n",
    "isnumeric_count, isdigit_count, isdecimal_count =  spam(test_string, isnumeric_count, isdigit_count, isdecimal_count)\n",
    "print('isnumeric_count: {}'.format(isnumeric_count))     \n",
    "print('isdigit_count: {}'.format(isdigit_count))     \n",
    "print('isdecimal_count: {}'.format(isdecimal_count))  "
   ]
  },
  {
   "cell_type": "markdown",
   "metadata": {},
   "source": [
    "---"
   ]
  },
  {
   "cell_type": "markdown",
   "metadata": {},
   "source": [
    "## 運用formatting 技巧 output\n",
    "    * Accuracy: 98.13%, Recall: 94.88%, Precision: 96.29%"
   ]
  },
  {
   "cell_type": "code",
   "execution_count": 4,
   "metadata": {},
   "outputs": [],
   "source": [
    "accuracy = 98.129393\n",
    "recall =   94.879583\n",
    "precision =96.294821"
   ]
  },
  {
   "cell_type": "code",
   "execution_count": 5,
   "metadata": {},
   "outputs": [
    {
     "name": "stdout",
     "output_type": "stream",
     "text": [
      "練習部分\n",
      "Accuracy: 98.13%\n",
      "Recall: 94.88%\n",
      "Precision: 96.29%\n"
     ]
    }
   ],
   "source": [
    "print('練習部分')\n",
    "print('{}: {:.2f}%'.format('Accuracy',accuracy))\n",
    "print('{}: {:.2f}%'.format('Recall',recall))\n",
    "print('{}: {:.2f}%'.format('Precision',precision))"
   ]
  },
  {
   "cell_type": "code",
   "execution_count": 6,
   "metadata": {},
   "outputs": [],
   "source": [
    "accuracy = 0.98129393\n",
    "recall =   0.94879583\n",
    "precision =0.96294821"
   ]
  },
  {
   "cell_type": "code",
   "execution_count": 7,
   "metadata": {},
   "outputs": [
    {
     "name": "stdout",
     "output_type": "stream",
     "text": [
      "練習部分\n",
      "Accuracy: 98.13%\n",
      "Recall: 94.88%\n",
      "Precision: 96.29%\n"
     ]
    }
   ],
   "source": [
    "print('練習部分')\n",
    "print('{}: {:.2%}'.format('Accuracy',accuracy))\n",
    "print('{}: {:.2%}'.format('Recall',recall))\n",
    "print('{}: {:.2%}'.format('Precision',precision))"
   ]
  },
  {
   "cell_type": "markdown",
   "metadata": {},
   "source": [
    "---"
   ]
  },
  {
   "cell_type": "markdown",
   "metadata": {},
   "source": [
    "## 依照只是轉換number output format"
   ]
  },
  {
   "cell_type": "code",
   "execution_count": 8,
   "metadata": {},
   "outputs": [],
   "source": [
    "number = 3.1415926"
   ]
  },
  {
   "cell_type": "markdown",
   "metadata": {},
   "source": [
    "#### 轉換為科學符號表示法 (小數點後兩位)"
   ]
  },
  {
   "cell_type": "code",
   "execution_count": 9,
   "metadata": {},
   "outputs": [
    {
     "name": "stdout",
     "output_type": "stream",
     "text": [
      "練習部分\n"
     ]
    },
    {
     "data": {
      "text/plain": [
       "'3.14e+00'"
      ]
     },
     "execution_count": 9,
     "metadata": {},
     "output_type": "execute_result"
    }
   ],
   "source": [
    "print('練習部分')\n",
    "'%.2e' % (number)"
   ]
  },
  {
   "cell_type": "markdown",
   "metadata": {},
   "source": [
    "#### 轉換為%"
   ]
  },
  {
   "cell_type": "code",
   "execution_count": 10,
   "metadata": {},
   "outputs": [
    {
     "name": "stdout",
     "output_type": "stream",
     "text": [
      "練習部分\n"
     ]
    },
    {
     "data": {
      "text/plain": [
       "'314.159260%'"
      ]
     },
     "execution_count": 10,
     "metadata": {},
     "output_type": "execute_result"
    }
   ],
   "source": [
    "print('練習部分')\n",
    "'{:%}'.format(number)"
   ]
  },
  {
   "cell_type": "markdown",
   "metadata": {},
   "source": [
    "#### 補零成為3.14159300"
   ]
  },
  {
   "cell_type": "code",
   "execution_count": 11,
   "metadata": {},
   "outputs": [
    {
     "name": "stdout",
     "output_type": "stream",
     "text": [
      "練習部分\n"
     ]
    },
    {
     "data": {
      "text/plain": [
       "'3.141593000'"
      ]
     },
     "execution_count": 11,
     "metadata": {},
     "output_type": "execute_result"
    }
   ],
   "source": [
    "print('練習部分')\n",
    "'{:0<11f}'.format(number)"
   ]
  },
  {
   "cell_type": "code",
   "execution_count": null,
   "metadata": {},
   "outputs": [],
   "source": []
  }
 ],
 "metadata": {
  "kernelspec": {
   "display_name": "Python 3",
   "language": "python",
   "name": "python3"
  },
  "language_info": {
   "codemirror_mode": {
    "name": "ipython",
    "version": 3
   },
   "file_extension": ".py",
   "mimetype": "text/x-python",
   "name": "python",
   "nbconvert_exporter": "python",
   "pygments_lexer": "ipython3",
   "version": "3.8.3"
  }
 },
 "nbformat": 4,
 "nbformat_minor": 2
}
